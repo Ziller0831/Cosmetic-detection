{
 "cells": [
  {
   "cell_type": "code",
   "execution_count": 14,
   "metadata": {},
   "outputs": [],
   "source": [
    "import pandas as pd\n",
    "import numpy as np\n",
    "import FileProcess as FP\n",
    "import xml.etree.ElementTree as XET"
   ]
  },
  {
   "cell_type": "code",
   "execution_count": 44,
   "metadata": {},
   "outputs": [
    {
     "name": "stdout",
     "output_type": "stream",
     "text": [
      "<class 'numpy.ndarray'>\n",
      "<class 'numpy.ndarray'>\n",
      "<class 'numpy.ndarray'>\n"
     ]
    },
    {
     "data": {
      "text/plain": [
       "{'camera_matrix': array([[7.89546370e+03, 0.00000000e+00, 2.96828005e+02],\n",
       "        [0.00000000e+00, 7.88028191e+03, 2.38538011e+02],\n",
       "        [0.00000000e+00, 0.00000000e+00, 1.00000000e+00]]),\n",
       " 'rvecs': array([[-0.04738273],\n",
       "        [-0.10237846],\n",
       "        [-3.13737861]]),\n",
       " 'tvecs': array([[ 108.56513084],\n",
       "        [  71.94925284],\n",
       "        [4438.99806906]])}"
      ]
     },
     "execution_count": 44,
     "metadata": {},
     "output_type": "execute_result"
    }
   ],
   "source": [
    "import ast\n",
    "\n",
    "calibration = {\"camera_matrix\": 0, \"rvecs\": 0, \"tvecs\": 0}\n",
    "for i in calibration:\n",
    "    calibration[i] = (FP.XMLRead(r\"C:\\Users\\jcyu\\Documents\\GitHub\\OpenCV-image-process-test\\HaoYing\\Setting.xml\", str(i)))\n",
    "    calibration[i] = np.array(ast.literal_eval(calibration[i]))\n",
    "    print(type(calibration[i]))\n",
    "calibration\n",
    "\n",
    "\n",
    "\n"
   ]
  }
 ],
 "metadata": {
  "kernelspec": {
   "display_name": "opencv",
   "language": "python",
   "name": "python3"
  },
  "language_info": {
   "codemirror_mode": {
    "name": "ipython",
    "version": 3
   },
   "file_extension": ".py",
   "mimetype": "text/x-python",
   "name": "python",
   "nbconvert_exporter": "python",
   "pygments_lexer": "ipython3",
   "version": "3.9.16"
  },
  "orig_nbformat": 4
 },
 "nbformat": 4,
 "nbformat_minor": 2
}
