{
 "cells": [
  {
   "cell_type": "code",
   "execution_count": 17,
   "metadata": {},
   "outputs": [
    {
     "ename": "FileNotFoundError",
     "evalue": "[WinError 2] 系統找不到指定的檔案。: '~'",
     "output_type": "error",
     "traceback": [
      "\u001b[1;31m---------------------------------------------------------------------------\u001b[0m",
      "\u001b[1;31mFileNotFoundError\u001b[0m                         Traceback (most recent call last)",
      "Cell \u001b[1;32mIn[17], line 4\u001b[0m\n\u001b[0;32m      1\u001b[0m \u001b[39mimport\u001b[39;00m \u001b[39mos\u001b[39;00m\n\u001b[0;32m      3\u001b[0m home \u001b[39m=\u001b[39m os\u001b[39m.\u001b[39mgetcwd()\n\u001b[1;32m----> 4\u001b[0m os\u001b[39m.\u001b[39;49mchdir(\u001b[39m\"\u001b[39;49m\u001b[39m~\u001b[39;49m\u001b[39m\"\u001b[39;49m)\n\u001b[0;32m      5\u001b[0m home \u001b[39m=\u001b[39m os\u001b[39m.\u001b[39mgetcwd()\n\u001b[0;32m      6\u001b[0m home\n",
      "\u001b[1;31mFileNotFoundError\u001b[0m: [WinError 2] 系統找不到指定的檔案。: '~'"
     ]
    }
   ],
   "source": [
    "import os\n",
    "\n",
    "home = os.getcwd()\n",
    "os.chdir(\"~\")\n",
    "home = os.getcwd()\n",
    "home\n"
   ]
  },
  {
   "cell_type": "code",
   "execution_count": 14,
   "metadata": {},
   "outputs": [
    {
     "name": "stdout",
     "output_type": "stream",
     "text": [
      "1 0.29118851448495525 162.08749061403674\n"
     ]
    }
   ],
   "source": [
    "import numpy as np\n",
    "import math\n",
    "vect_a = np.array([-99, -32])\n",
    "vect_b = np.array([2, 0])\n",
    "vect_a_val = (vect_a[0]**2 + vect_a[1]**2)**0.5\n",
    "vect_b_val = (vect_b[0]**2 + vect_b[1]**2)**0.5\n",
    "cos = vect_a @ vect_b / (vect_a_val * vect_b_val)\n",
    "theta = math.degrees(np.arccos(cos))\n",
    "val = math.cos(theta)\n",
    "\n",
    "print((math.ceil(val)), val, theta)"
   ]
  },
  {
   "cell_type": "code",
   "execution_count": 2,
   "metadata": {},
   "outputs": [
    {
     "name": "stdout",
     "output_type": "stream",
     "text": [
      "server start at: 0.0.0.0:7000\n",
      "wait for connection...\n"
     ]
    }
   ],
   "source": [
    "HOST = '0.0.0.0'\n",
    "PORT = 7000\n",
    "\n",
    "s = socket.socket(socket.AF_INET, socket.SOCK_STREAM)\n",
    "s.bind((HOST, PORT))\n",
    "s.listen(5)\n",
    "\n",
    "print('server start at: %s:%s' % (HOST, PORT))\n",
    "print('wait for connection...')\n",
    "\n",
    "while True:\n",
    "    conn, addr = s.accept()\n",
    "    print('connected by ' + str(addr))\n",
    "\n",
    "    indata = conn.recv(1024)\n",
    "    print('recv: ' + indata.decode())\n",
    "\n",
    "    outdata = 'echo ' + indata.decode()\n",
    "    conn.send(outdata.encode())\n",
    "    conn.close()\n",
    "    print()\n",
    "s.close()\n",
    "\n",
    "\n"
   ]
  }
 ],
 "metadata": {
  "kernelspec": {
   "display_name": "opencv",
   "language": "python",
   "name": "python3"
  },
  "language_info": {
   "codemirror_mode": {
    "name": "ipython",
    "version": 3
   },
   "file_extension": ".py",
   "mimetype": "text/x-python",
   "name": "python",
   "nbconvert_exporter": "python",
   "pygments_lexer": "ipython3",
   "version": "3.9.16"
  },
  "orig_nbformat": 4
 },
 "nbformat": 4,
 "nbformat_minor": 2
}
