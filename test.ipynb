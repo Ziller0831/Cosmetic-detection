{
 "cells": [
  {
   "cell_type": "code",
   "execution_count": 2,
   "metadata": {},
   "outputs": [],
   "source": [
    "import pandas as pd"
   ]
  },
  {
   "cell_type": "code",
   "execution_count": 23,
   "metadata": {},
   "outputs": [],
   "source": [
    "CsvDir = r\"./Cosmetic_parameter.csv\"\n",
    "FileName = pd.read_csv(CsvDir, encoding='BIG5').to_dict()\n",
    "CsvData = pd.DataFrame(FileName)\n",
    "CsvData\n",
    "\n",
    "CsvData.loc[[2],[\"面積平均\",\"面積標準差\", \"最大-最小\"]] = [2231.1533,1226.1480,2888.5000]\n",
    "\n",
    "CsvData.to_csv(CsvDir, index=False, encoding='BIG5')"
   ]
  }
 ],
 "metadata": {
  "kernelspec": {
   "display_name": "opencv",
   "language": "python",
   "name": "python3"
  },
  "language_info": {
   "codemirror_mode": {
    "name": "ipython",
    "version": 3
   },
   "file_extension": ".py",
   "mimetype": "text/x-python",
   "name": "python",
   "nbconvert_exporter": "python",
   "pygments_lexer": "ipython3",
   "version": "3.9.16"
  },
  "orig_nbformat": 4
 },
 "nbformat": 4,
 "nbformat_minor": 2
}
